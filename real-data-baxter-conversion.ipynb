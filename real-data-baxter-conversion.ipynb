{
 "cells": [
  {
   "cell_type": "code",
   "execution_count": 1,
   "metadata": {
    "collapsed": false
   },
   "outputs": [
    {
     "name": "stdout",
     "output_type": "stream",
     "text": [
      "test.yaml\n",
      "cost: 50000\n",
      "depth: 5\n",
      "flags: [INT, WIS, SPEED, STEALTH]\n",
      "name: The Cloak 'Colluin'\n",
      "rarity: 45\n",
      "weight: 10\n",
      "\n"
     ]
    }
   ],
   "source": [
    "import yaml\n",
    "\n",
    "# print yaml.load(\"\"\"\n",
    "# ... name: Vorlin Laruknuzum\n",
    "# ... sex: Male\n",
    "# ... class: Priest\n",
    "# ... title: Acolyte\n",
    "# ... hp: [32, 71]\n",
    "# ... sp: [1, 13]\n",
    "# ... gold: 423\n",
    "# ... inventory:\n",
    "# ... - a Holy Book of Prayers (Words of Wisdom)\n",
    "# ... - an Azure Potion of Cure Light Wounds\n",
    "# ... - a Silver Wand of Wonder\n",
    "# ... \"\"\")\n",
    "# {'name': 'Vorlin Laruknuzum', 'gold': 423, 'title': 'Acolyte', 'hp': [32, 71],\n",
    "# 'sp': [1, 13], 'sex': 'Male', 'inventory': ['a Holy Book of Prayers (Words of Wisdom)',\n",
    "# 'an Azure Potion of Cure Light Wounds', 'a Siver Wand of Wonder'], 'class': 'Priest'}\n",
    "\n",
    "filename = 'test.yaml'\n",
    "print yaml.load(filename)\n",
    "print yaml.dump({'name': \"The Cloak 'Colluin'\", 'depth': 5, 'rarity': 45, 'weight': 10, 'cost': 50000, 'flags': ['INT', 'WIS', 'SPEED', 'STEALTH']})\n",
    "\n",
    "# name: The Cloak 'Colluin'\n",
    "# rarity: 45\n",
    "# flags: [INT, WIS, SPEED, STEALTH]\n",
    "# weight: 10\n",
    "# cost: 50000\n",
    "# depth: 5\n",
    "\n",
    "\n",
    "# def real_file_to_simulated_file(input_f, output_f):\n",
    "#     content = yaml.load(input_f)\n",
    "#     ts = extract_ts(content)\n",
    "#     new_time = ts_to_seconds(ts)\n",
    "#     # add new format to new_content\n",
    "#     yaml.load(output_f)\n",
    "#     yaml.dump(new_content)\n",
    "    \n",
    "#real_file_to_simulated_file(\"a.yaml\", \"b.yaml\")   "
   ]
  },
  {
   "cell_type": "code",
   "execution_count": 66,
   "metadata": {
    "collapsed": false
   },
   "outputs": [
    {
     "ename": "ImportError",
     "evalue": "No module named cv2",
     "output_type": "error",
     "traceback": [
      "\u001b[0;31m---------------------------------------------------------------------------\u001b[0m",
      "\u001b[0;31mImportError\u001b[0m                               Traceback (most recent call last)",
      "\u001b[0;32m<ipython-input-66-d58e7821fe06>\u001b[0m in \u001b[0;36m<module>\u001b[0;34m()\u001b[0m\n\u001b[1;32m      3\u001b[0m \u001b[0;32mimport\u001b[0m \u001b[0mos\u001b[0m\u001b[0;34m\u001b[0m\u001b[0m\n\u001b[1;32m      4\u001b[0m \u001b[0;31m#from os import os.\u001b[0m\u001b[0;34m\u001b[0m\u001b[0;34m\u001b[0m\u001b[0m\n\u001b[0;32m----> 5\u001b[0;31m \u001b[0;32mimport\u001b[0m \u001b[0mcv2\u001b[0m\u001b[0;34m\u001b[0m\u001b[0m\n\u001b[0m\u001b[1;32m      6\u001b[0m \u001b[0;34m\u001b[0m\u001b[0m\n\u001b[1;32m      7\u001b[0m \u001b[0;32mdef\u001b[0m \u001b[0mbinary_image2rgb_file\u001b[0m\u001b[0;34m(\u001b[0m\u001b[0mbuf\u001b[0m\u001b[0;34m,\u001b[0m \u001b[0mframe_id\u001b[0m\u001b[0;34m,\u001b[0m \u001b[0moutput_path\u001b[0m\u001b[0;34m=\u001b[0m\u001b[0;34m\"./recorded_cameras_head_camera_2_image_compressed/\"\u001b[0m\u001b[0;34m)\u001b[0m\u001b[0;34m:\u001b[0m\u001b[0;34m\u001b[0m\u001b[0m\n",
      "\u001b[0;31mImportError\u001b[0m: No module named cv2"
     ]
    }
   ],
   "source": [
    "import yaml\n",
    "import pandas as pd\n",
    "import os\n",
    "#from os import os.\n",
    "import cv2\n",
    "\n",
    "def binary_image2rgb_file(buf, frame_id, output_path=\"./recorded_cameras_head_camera_2_image_compressed/\"):\n",
    "    image = cv2.imdecode(buf)\n",
    "    filename = \"./foto86.jpg\" #output_path+frame_id+\".jpg\"\n",
    "    cv2.imwrite(filename, image)#const String& filename, InputArray img, const vector<int>& params=vector<int>() )\n",
    "    \n",
    "def get_folders(directory):\n",
    "    folders = os.walk(directory)\n",
    "    #folders = [x[0] if os.path.isdir(x[0]) for x in os.walk(directory)]\n",
    "    iteration_folders = []\n",
    "    for f in folders:\n",
    "        if 'iteration' in f[0]:\n",
    "            iteration_folders.append(f[0])\n",
    "    return iteration_folders\n",
    "\n",
    "\"\"\" \n",
    "This program uses baxter joint positions in cartesian space and translates \n",
    "to discrete action space processable by representation_learning_3D program. For the wrist joint we need \n",
    "the 3 axis rotations given by:\n",
    "right_w0 right_w1 right_w2\n",
    "Because each image in the recorded data produces many frame_ID values with joint values for that frame, \n",
    "we keep only one set of joint values\n",
    "\"\"\"\n",
    "\n",
    "original_babbling_data = \"\"\"\n",
    "frame_1976262265:\n",
    "  timestamp:\n",
    "    sec: 1486734831\n",
    "    nsec: 489527434\n",
    "  joints_values:\n",
    "    joint_0: -0.5480146364720641\n",
    "    joint_1: -1.207242880065821\n",
    "    joint_2: 0.06020874592450249\n",
    "    joint_3: 0.9368787662010164\n",
    "    joint_4: -0.02607767339405203\n",
    "    joint_5: 1.693131294628526\n",
    "    joint_6: -0.02377670221222391\n",
    "\"\"\"\n",
    "\n",
    "def read_yaml(filename):\n",
    "    with open(filename, 'r') as stream:\n",
    "        try:\n",
    "            #print(yaml.load(stream))\n",
    "            return yaml.load(stream)\n",
    "        except yaml.YAMLError as exc:\n",
    "            print(exc)    \n",
    "\n",
    "def real_file_to_simulated_file(input_f='controller_feedback.yml', input_f_reward='dataset_color.yml', output_f='recorded_robot_limb_left_endpoint_action.txt', output_f_reward='recorded_button1_is_pressed.txt'):\n",
    "    \"\"\" \n",
    "    Adds secs to nanosecs for a unique timestamp, creates label =1 if an object being pushed is moving, \n",
    "    and 0 otherwise (including if an object being pushed is not moving)\n",
    "    Uses https://en.wikipedia.org/wiki/Denavit%E2%80%93Hartenberg_parameters  to convert from joint to cartesian space\n",
    "    recorded_robot_limb_left_endpoint_action.txt  #time, dx, dy, dz\n",
    "    recorded_button1_is_pressed.txt  #time, value\n",
    "    \"\"\"\n",
    "    content = read_yaml(input_f)           \n",
    "    # add new format to new_content    \n",
    "    # time x,y,z\n",
    "    # time, dx, dy, dz      recorded_robot_limb_left_endpoint_action.txt\n",
    "    df = pd.DataFrame(columns=('#time', 'x', 'y', 'z'))\n",
    "    df_deltas = pd.DataFrame(columns=('#time', 'dx', 'dy', 'dz'))\n",
    "    df_reward = pd.DataFrame(columns=('#time', 'value'))\n",
    "#     init_time = 0.0\n",
    "#     init_position = [0,0,0]\n",
    "    timestamps= []\n",
    "    i=0\n",
    "    for key in content.keys():         # for each image_per_action:\n",
    "        new_time = content[key]['timestamp']['sec']+ content[key]['timestamp']['nsec'] #print 'new_time',new_time\n",
    "        x,y,z = -1,-1,-9 #content[key]['coordinates']:   #print x,y,z\n",
    "        df.loc[i] = [new_time, x, y, z]   #df_deltas.loc[i] = [new_time, dx, dy, dz]\n",
    "        df_reward.loc[i] = [new_time, 1] #[new_time, content[key]['reward']]\n",
    "        #prev_x, prev_y, prev_z = dx,dy,dz\n",
    "        #prev_time = cumulated_time           timestamps.append(new_time)\n",
    "        i += 1\n",
    "    \n",
    "    print \"Writing to files: \\n\",df.head()\n",
    "    print df_reward.head()\n",
    "    df.to_csv(output_f, header=True, index=False, sep='\\t')\n",
    "    #df_deltas.to_csv(output_f_deltas, header=True, index=False, sep='\\t', mode='a')\n",
    "    df_reward.to_csv(output_f_reward, header=True, index=False, sep='\\t')\n",
    "    \n",
    "    \n",
    "# real_data =\"controller_feedback.yml\"\n",
    "# simulated_data = \"simulated_data_pushing_objects.txt\" #\"recorded_robot_limb_left_endpoint_state.xml\"\n",
    "# real_data_rewards = \"dataset_normal.yml\"\n",
    "# simulated_data_rewards = \"movable_object_is_pushed.txt\" # equiv to recorded_button1_is_pressed.txt\n",
    "#real_file_to_simulated_file(real_data, simulated_data, real_data_rewards, simulated_data_rewards )\n",
    "real_file_to_simulated_file()\n",
    "\n",
    "\n",
    "\n",
    "def read_binary_image():\n",
    "    content = read_yaml('./rgb.yml')  \n",
    "    for frame in content.keys():\n",
    "        buf =content[frame]['rgb']\n",
    "        print buf\n",
    "        binary_image2rgb_file(buf, '86')\n",
    "        \n",
    "read_binary_image()\n"
   ]
  },
  {
   "cell_type": "code",
   "execution_count": 59,
   "metadata": {
    "collapsed": false
   },
   "outputs": [],
   "source": [
    "original_data = '../baxter_babbling'\n",
    "converted_dir = './baxter_babbling_converted/'\n",
    "if not os.path.exists(converted_dir):\n",
    "        os.makedirs(converted_dir)\n",
    "        \n",
    "data_iteration_folders = get_folders(original_data)\n",
    "i = 0\n",
    "for folder in data_iteration_folders:\n",
    "    record = converted_dir+'record_'+str(i)\n",
    "    if not os.path.exists(record):\n",
    "        os.makedirs(record)\n",
    "        i +=1\n",
    "    if not os.path.exists(image_subfolder):\n",
    "        os.makedirs(record+'recorded_cameras_head_camera_2_image_compressed/')\n",
    "\n",
    "# CV2\n",
    "nparr = np.fromstring(img_str, np.uint8)\n",
    "img_np = cv2.imdecode(nparr, cv2.CV_LOAD_IMAGE_COLOR) # cv2.IMREAD_COLOR in OpenCV 3.1\n",
    "\n",
    "\n"
   ]
  },
  {
   "cell_type": "code",
   "execution_count": 62,
   "metadata": {
    "collapsed": false
   },
   "outputs": [
    {
     "ename": "OSError",
     "evalue": "[Errno 2] No such file or directory: 'images'",
     "output_type": "error",
     "traceback": [
      "\u001b[0;31m---------------------------------------------------------------------------\u001b[0m",
      "\u001b[0;31mOSError\u001b[0m                                   Traceback (most recent call last)",
      "\u001b[0;32m<ipython-input-62-3eda68fdee54>\u001b[0m in \u001b[0;36m<module>\u001b[0;34m()\u001b[0m\n\u001b[1;32m      1\u001b[0m \u001b[0;32mfrom\u001b[0m \u001b[0mos\u001b[0m \u001b[0;32mimport\u001b[0m \u001b[0mlistdir\u001b[0m\u001b[0;34m\u001b[0m\u001b[0m\n\u001b[1;32m      2\u001b[0m \u001b[0;32mfrom\u001b[0m \u001b[0mos\u001b[0m\u001b[0;34m.\u001b[0m\u001b[0mpath\u001b[0m \u001b[0;32mimport\u001b[0m \u001b[0misfile\u001b[0m\u001b[0;34m,\u001b[0m \u001b[0mjoin\u001b[0m\u001b[0;34m\u001b[0m\u001b[0m\n\u001b[0;32m----> 3\u001b[0;31m \u001b[0monlyfiles\u001b[0m \u001b[0;34m=\u001b[0m \u001b[0;34m[\u001b[0m\u001b[0mf\u001b[0m \u001b[0;32mfor\u001b[0m \u001b[0mf\u001b[0m \u001b[0;32min\u001b[0m \u001b[0mlistdir\u001b[0m\u001b[0;34m(\u001b[0m\u001b[0;34m'images'\u001b[0m\u001b[0;34m)\u001b[0m \u001b[0;32mif\u001b[0m \u001b[0misfile\u001b[0m\u001b[0;34m(\u001b[0m\u001b[0mjoin\u001b[0m\u001b[0;34m(\u001b[0m\u001b[0mmypath\u001b[0m\u001b[0;34m,\u001b[0m \u001b[0mf\u001b[0m\u001b[0;34m)\u001b[0m\u001b[0;34m)\u001b[0m\u001b[0;34m]\u001b[0m\u001b[0;34m\u001b[0m\u001b[0m\n\u001b[0m",
      "\u001b[0;31mOSError\u001b[0m: [Errno 2] No such file or directory: 'images'"
     ]
    }
   ],
   "source": [
    "from os import listdir\n",
    "from os.path import isfile, join\n",
    "onlyfiles = [f for f in listdir('images') if isfile(join(mypath, f))]"
   ]
  },
  {
   "cell_type": "code",
   "execution_count": null,
   "metadata": {
    "collapsed": true
   },
   "outputs": [],
   "source": []
  }
 ],
 "metadata": {
  "kernelspec": {
   "display_name": "Python 2",
   "language": "python",
   "name": "python2"
  },
  "language_info": {
   "codemirror_mode": {
    "name": "ipython",
    "version": 2
   },
   "file_extension": ".py",
   "mimetype": "text/x-python",
   "name": "python",
   "nbconvert_exporter": "python",
   "pygments_lexer": "ipython2",
   "version": "2.7.13"
  }
 },
 "nbformat": 4,
 "nbformat_minor": 2
}
